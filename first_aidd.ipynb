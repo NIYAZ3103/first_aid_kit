{
 "cells": [
  {
   "cell_type": "code",
   "execution_count": 51,
   "id": "b250162e",
   "metadata": {},
   "outputs": [
    {
     "name": "stdout",
     "output_type": "stream",
     "text": [
      "Requirement already satisfied: matplotlib in ./.venv/lib/python3.12/site-packages (3.10.5)\n",
      "Requirement already satisfied: seaborn in ./.venv/lib/python3.12/site-packages (0.13.2)\n",
      "Requirement already satisfied: scikit-learn in ./.venv/lib/python3.12/site-packages (1.7.1)\n",
      "Requirement already satisfied: joblib in ./.venv/lib/python3.12/site-packages (1.5.1)\n",
      "Requirement already satisfied: contourpy>=1.0.1 in ./.venv/lib/python3.12/site-packages (from matplotlib) (1.3.3)\n",
      "Requirement already satisfied: cycler>=0.10 in ./.venv/lib/python3.12/site-packages (from matplotlib) (0.12.1)\n",
      "Requirement already satisfied: fonttools>=4.22.0 in ./.venv/lib/python3.12/site-packages (from matplotlib) (4.59.0)\n",
      "Requirement already satisfied: kiwisolver>=1.3.1 in ./.venv/lib/python3.12/site-packages (from matplotlib) (1.4.8)\n",
      "Requirement already satisfied: numpy>=1.23 in ./.venv/lib/python3.12/site-packages (from matplotlib) (2.3.2)\n",
      "Requirement already satisfied: packaging>=20.0 in ./.venv/lib/python3.12/site-packages (from matplotlib) (25.0)\n",
      "Requirement already satisfied: pillow>=8 in ./.venv/lib/python3.12/site-packages (from matplotlib) (11.3.0)\n",
      "Requirement already satisfied: pyparsing>=2.3.1 in ./.venv/lib/python3.12/site-packages (from matplotlib) (3.2.3)\n",
      "Requirement already satisfied: python-dateutil>=2.7 in ./.venv/lib/python3.12/site-packages (from matplotlib) (2.9.0.post0)\n",
      "Requirement already satisfied: pandas>=1.2 in ./.venv/lib/python3.12/site-packages (from seaborn) (2.3.1)\n",
      "Requirement already satisfied: scipy>=1.8.0 in ./.venv/lib/python3.12/site-packages (from scikit-learn) (1.16.1)\n",
      "Requirement already satisfied: threadpoolctl>=3.1.0 in ./.venv/lib/python3.12/site-packages (from scikit-learn) (3.6.0)\n",
      "Requirement already satisfied: pytz>=2020.1 in ./.venv/lib/python3.12/site-packages (from pandas>=1.2->seaborn) (2025.2)\n",
      "Requirement already satisfied: tzdata>=2022.7 in ./.venv/lib/python3.12/site-packages (from pandas>=1.2->seaborn) (2025.2)\n",
      "Requirement already satisfied: six>=1.5 in ./.venv/lib/python3.12/site-packages (from python-dateutil>=2.7->matplotlib) (1.17.0)\n"
     ]
    }
   ],
   "source": [
    "import sys\n",
    "!{sys.executable} -m pip install matplotlib seaborn scikit-learn joblib\n",
    "\n",
    "\n"
   ]
  },
  {
   "cell_type": "code",
   "execution_count": 52,
   "id": "92e2253e",
   "metadata": {},
   "outputs": [
    {
     "name": "stdout",
     "output_type": "stream",
     "text": [
      "Requirement already satisfied: pandas in ./.venv/lib/python3.12/site-packages (2.3.1)\n",
      "Requirement already satisfied: numpy>=1.26.0 in ./.venv/lib/python3.12/site-packages (from pandas) (2.3.2)\n",
      "Requirement already satisfied: python-dateutil>=2.8.2 in ./.venv/lib/python3.12/site-packages (from pandas) (2.9.0.post0)\n",
      "Requirement already satisfied: pytz>=2020.1 in ./.venv/lib/python3.12/site-packages (from pandas) (2025.2)\n",
      "Requirement already satisfied: tzdata>=2022.7 in ./.venv/lib/python3.12/site-packages (from pandas) (2025.2)\n",
      "Requirement already satisfied: six>=1.5 in ./.venv/lib/python3.12/site-packages (from python-dateutil>=2.8.2->pandas) (1.17.0)\n"
     ]
    }
   ],
   "source": [
    "import sys\n",
    "!{sys.executable} -m pip install pandas\n"
   ]
  },
  {
   "cell_type": "code",
   "execution_count": 53,
   "id": "843f31aa",
   "metadata": {},
   "outputs": [],
   "source": [
    "import pandas as pd\n",
    "import re\n",
    "from sklearn.model_selection import train_test_split\n",
    "from sklearn.feature_extraction.text import TfidfVectorizer\n",
    "from sklearn.ensemble import RandomForestClassifier\n",
    "from sklearn.multioutput import MultiOutputClassifier\n",
    "from sklearn.metrics import classification_report\n",
    "\n"
   ]
  },
  {
   "cell_type": "code",
   "execution_count": 54,
   "id": "2070641b",
   "metadata": {},
   "outputs": [
    {
     "data": {
      "text/html": [
       "<div>\n",
       "<style scoped>\n",
       "    .dataframe tbody tr th:only-of-type {\n",
       "        vertical-align: middle;\n",
       "    }\n",
       "\n",
       "    .dataframe tbody tr th {\n",
       "        vertical-align: top;\n",
       "    }\n",
       "\n",
       "    .dataframe thead th {\n",
       "        text-align: right;\n",
       "    }\n",
       "</style>\n",
       "<table border=\"1\" class=\"dataframe\">\n",
       "  <thead>\n",
       "    <tr style=\"text-align: right;\">\n",
       "      <th></th>\n",
       "      <th>Description</th>\n",
       "      <th>Severity</th>\n",
       "      <th>First Aid Steps</th>\n",
       "      <th>Injury Type</th>\n",
       "      <th>Pill Needed</th>\n",
       "    </tr>\n",
       "  </thead>\n",
       "  <tbody>\n",
       "    <tr>\n",
       "      <th>0</th>\n",
       "      <td>i have stomach pain after eating street food</td>\n",
       "      <td>MILD</td>\n",
       "      <td>Drink clean water, rest, eat light food, if pe...</td>\n",
       "      <td>Abdominal Pain</td>\n",
       "      <td>antacid</td>\n",
       "    </tr>\n",
       "    <tr>\n",
       "      <th>1</th>\n",
       "      <td>severe stomach pain with vomiting and dizziness</td>\n",
       "      <td>SEVERE</td>\n",
       "      <td>Lie down, hydrate if possible, seek immediate ...</td>\n",
       "      <td>Abdominal Pain</td>\n",
       "      <td>antacid</td>\n",
       "    </tr>\n",
       "    <tr>\n",
       "      <th>2</th>\n",
       "      <td>i have stomach cramps after eating too fast</td>\n",
       "      <td>MILD</td>\n",
       "      <td>Sit upright, sip warm water, eat slowly next t...</td>\n",
       "      <td>Abdominal Pain</td>\n",
       "      <td>antacid</td>\n",
       "    </tr>\n",
       "    <tr>\n",
       "      <th>3</th>\n",
       "      <td>severe abdominal pain after eating old food</td>\n",
       "      <td>SEVERE</td>\n",
       "      <td>Lie down, do not eat or drink until doctor con...</td>\n",
       "      <td>Abdominal Pain</td>\n",
       "      <td>antacid</td>\n",
       "    </tr>\n",
       "    <tr>\n",
       "      <th>4</th>\n",
       "      <td>my stomach hurts badly after roadside food</td>\n",
       "      <td>MODERATE</td>\n",
       "      <td>Sip ORS slowly, rest, seek doctor if pain incr...</td>\n",
       "      <td>Abdominal Pain</td>\n",
       "      <td>antacid</td>\n",
       "    </tr>\n",
       "  </tbody>\n",
       "</table>\n",
       "</div>"
      ],
      "text/plain": [
       "                                       Description  Severity  \\\n",
       "0     i have stomach pain after eating street food      MILD   \n",
       "1  severe stomach pain with vomiting and dizziness    SEVERE   \n",
       "2      i have stomach cramps after eating too fast      MILD   \n",
       "3      severe abdominal pain after eating old food    SEVERE   \n",
       "4       my stomach hurts badly after roadside food  MODERATE   \n",
       "\n",
       "                                     First Aid Steps     Injury Type  \\\n",
       "0  Drink clean water, rest, eat light food, if pe...  Abdominal Pain   \n",
       "1  Lie down, hydrate if possible, seek immediate ...  Abdominal Pain   \n",
       "2  Sit upright, sip warm water, eat slowly next t...  Abdominal Pain   \n",
       "3  Lie down, do not eat or drink until doctor con...  Abdominal Pain   \n",
       "4  Sip ORS slowly, rest, seek doctor if pain incr...  Abdominal Pain   \n",
       "\n",
       "  Pill Needed  \n",
       "0     antacid  \n",
       "1     antacid  \n",
       "2     antacid  \n",
       "3     antacid  \n",
       "4     antacid  "
      ]
     },
     "execution_count": 54,
     "metadata": {},
     "output_type": "execute_result"
    }
   ],
   "source": [
    "# Step 1: Load dataset\n",
    "df = pd.read_csv(\"first_aid.csv\")\n",
    "\n",
    "# Show basic info\n",
    "df.head()\n",
    "\n",
    "\n",
    "\n"
   ]
  },
  {
   "cell_type": "code",
   "execution_count": 55,
   "id": "c9978c62",
   "metadata": {},
   "outputs": [
    {
     "data": {
      "text/plain": [
       "<bound method DataFrame.info of                                          Description  Severity  \\\n",
       "0       i have stomach pain after eating street food      MILD   \n",
       "1    severe stomach pain with vomiting and dizziness    SEVERE   \n",
       "2        i have stomach cramps after eating too fast      MILD   \n",
       "3        severe abdominal pain after eating old food    SEVERE   \n",
       "4         my stomach hurts badly after roadside food  MODERATE   \n",
       "..                                               ...       ...   \n",
       "491                           how to cure a vertigo?      MILD   \n",
       "492                        how do you treat a wound?      MILD   \n",
       "493                     what to do if i get a wound?      MILD   \n",
       "494         which medicine to take if i get wounded?      MILD   \n",
       "495                             how to cure a wound?      MILD   \n",
       "\n",
       "                                       First Aid Steps     Injury Type  \\\n",
       "0    Drink clean water, rest, eat light food, if pe...  Abdominal Pain   \n",
       "1    Lie down, hydrate if possible, seek immediate ...  Abdominal Pain   \n",
       "2    Sit upright, sip warm water, eat slowly next t...  Abdominal Pain   \n",
       "3    Lie down, do not eat or drink until doctor con...  Abdominal Pain   \n",
       "4    Sip ORS slowly, rest, seek doctor if pain incr...  Abdominal Pain   \n",
       "..                                                 ...             ...   \n",
       "491  Sit or lie down immediately to prevent falls. ...         Vertigo   \n",
       "492  Rinse the cut or wound with water and apply pr...           Wound   \n",
       "493  Rinse the cut or wound with water and apply pr...           Wound   \n",
       "494  Rinse the cut or wound with water and apply pr...           Wound   \n",
       "495  Rinse the cut or wound with water and apply pr...           Wound   \n",
       "\n",
       "     Pill Needed  \n",
       "0        antacid  \n",
       "1        antacid  \n",
       "2        antacid  \n",
       "3        antacid  \n",
       "4        antacid  \n",
       "..           ...  \n",
       "491  Betahistine  \n",
       "492           NO  \n",
       "493           NO  \n",
       "494           NO  \n",
       "495           NO  \n",
       "\n",
       "[496 rows x 5 columns]>"
      ]
     },
     "execution_count": 55,
     "metadata": {},
     "output_type": "execute_result"
    }
   ],
   "source": [
    "df.info"
   ]
  },
  {
   "cell_type": "code",
   "execution_count": 56,
   "id": "82ac499c",
   "metadata": {},
   "outputs": [
    {
     "data": {
      "text/html": [
       "<div>\n",
       "<style scoped>\n",
       "    .dataframe tbody tr th:only-of-type {\n",
       "        vertical-align: middle;\n",
       "    }\n",
       "\n",
       "    .dataframe tbody tr th {\n",
       "        vertical-align: top;\n",
       "    }\n",
       "\n",
       "    .dataframe thead th {\n",
       "        text-align: right;\n",
       "    }\n",
       "</style>\n",
       "<table border=\"1\" class=\"dataframe\">\n",
       "  <thead>\n",
       "    <tr style=\"text-align: right;\">\n",
       "      <th></th>\n",
       "      <th>Description</th>\n",
       "      <th>Severity</th>\n",
       "      <th>First Aid Steps</th>\n",
       "      <th>Injury Type</th>\n",
       "      <th>Pill Needed</th>\n",
       "    </tr>\n",
       "  </thead>\n",
       "  <tbody>\n",
       "    <tr>\n",
       "      <th>count</th>\n",
       "      <td>496</td>\n",
       "      <td>496</td>\n",
       "      <td>496</td>\n",
       "      <td>496</td>\n",
       "      <td>496</td>\n",
       "    </tr>\n",
       "    <tr>\n",
       "      <th>unique</th>\n",
       "      <td>492</td>\n",
       "      <td>3</td>\n",
       "      <td>330</td>\n",
       "      <td>52</td>\n",
       "      <td>13</td>\n",
       "    </tr>\n",
       "    <tr>\n",
       "      <th>top</th>\n",
       "      <td>severe nosebleed not stopping after 20 mins</td>\n",
       "      <td>MILD</td>\n",
       "      <td>Seek emergency medical care immediately.</td>\n",
       "      <td>miscellaneus case</td>\n",
       "      <td>NO</td>\n",
       "    </tr>\n",
       "    <tr>\n",
       "      <th>freq</th>\n",
       "      <td>2</td>\n",
       "      <td>227</td>\n",
       "      <td>14</td>\n",
       "      <td>135</td>\n",
       "      <td>387</td>\n",
       "    </tr>\n",
       "  </tbody>\n",
       "</table>\n",
       "</div>"
      ],
      "text/plain": [
       "                                        Description Severity  \\\n",
       "count                                           496      496   \n",
       "unique                                          492        3   \n",
       "top     severe nosebleed not stopping after 20 mins     MILD   \n",
       "freq                                              2      227   \n",
       "\n",
       "                                 First Aid Steps        Injury Type  \\\n",
       "count                                        496                496   \n",
       "unique                                       330                 52   \n",
       "top     Seek emergency medical care immediately.  miscellaneus case   \n",
       "freq                                          14                135   \n",
       "\n",
       "       Pill Needed  \n",
       "count          496  \n",
       "unique          13  \n",
       "top             NO  \n",
       "freq           387  "
      ]
     },
     "execution_count": 56,
     "metadata": {},
     "output_type": "execute_result"
    }
   ],
   "source": [
    "df.describe()"
   ]
  },
  {
   "cell_type": "code",
   "execution_count": 57,
   "id": "478c2227",
   "metadata": {},
   "outputs": [],
   "source": [
    "# Step 2: Define input and output\n",
    "X_raw = df.iloc[:, 0]          # First column (input text)\n",
    "y = df.iloc[:, 1:]             # All other columns (outputs)\n"
   ]
  },
  {
   "cell_type": "code",
   "execution_count": 58,
   "id": "7b8a5910",
   "metadata": {},
   "outputs": [],
   "source": [
    "#Step 3: Clean text\n",
    "def clean_text(text):\n",
    "    text = str(text).lower()                          # lowercase\n",
    "    text = re.sub(r'[^a-z0-9\\s]', '', text)           # remove special chars\n",
    "    text = re.sub(r'\\s+', ' ', text).strip()          # remove extra spaces\n",
    "    return text\n",
    " \n",
    "X_cleaned = X_raw.apply(clean_text)\n",
    "\n",
    "# Step 4: Vectorize\n",
    "vectorizer = TfidfVectorizer()\n",
    "X = vectorizer.fit_transform(X_cleaned)\n",
    "\n",
    "\n"
   ]
  },
  {
   "cell_type": "code",
   "execution_count": 59,
   "id": "96ba615a",
   "metadata": {},
   "outputs": [
    {
     "data": {
      "text/plain": [
       "307    mild feeling of tiredness after exam\n",
       "Name: Description, dtype: object"
      ]
     },
     "execution_count": 59,
     "metadata": {},
     "output_type": "execute_result"
    }
   ],
   "source": [
    "X_cleaned.sample()\n",
    "\n",
    "X_raw.sample()\n"
   ]
  },
  {
   "cell_type": "code",
   "execution_count": 60,
   "id": "bfb5ad25",
   "metadata": {},
   "outputs": [
    {
     "name": "stdout",
     "output_type": "stream",
     "text": [
      "<class 'pandas.core.series.Series'>\n",
      "RangeIndex: 496 entries, 0 to 495\n",
      "Series name: Description\n",
      "Non-Null Count  Dtype \n",
      "--------------  ----- \n",
      "496 non-null    object\n",
      "dtypes: object(1)\n",
      "memory usage: 4.0+ KB\n"
     ]
    },
    {
     "data": {
      "text/plain": [
       "0       i have stomach pain after eating street food\n",
       "1    severe stomach pain with vomiting and dizziness\n",
       "2        i have stomach cramps after eating too fast\n",
       "3        severe abdominal pain after eating old food\n",
       "4         my stomach hurts badly after roadside food\n",
       "Name: Description, dtype: object"
      ]
     },
     "execution_count": 60,
     "metadata": {},
     "output_type": "execute_result"
    }
   ],
   "source": [
    "X_raw.info()\n",
    "X_cleaned.head()"
   ]
  },
  {
   "cell_type": "code",
   "execution_count": 61,
   "id": "0b1ed085",
   "metadata": {},
   "outputs": [
    {
     "name": "stdout",
     "output_type": "stream",
     "text": [
      "<class 'pandas.core.frame.DataFrame'>\n",
      "RangeIndex: 496 entries, 0 to 495\n",
      "Data columns (total 4 columns):\n",
      " #   Column           Non-Null Count  Dtype \n",
      "---  ------           --------------  ----- \n",
      " 0   Severity         496 non-null    object\n",
      " 1   First Aid Steps  496 non-null    object\n",
      " 2   Injury Type      496 non-null    object\n",
      " 3   Pill Needed      496 non-null    object\n",
      "dtypes: object(4)\n",
      "memory usage: 15.6+ KB\n"
     ]
    },
    {
     "data": {
      "text/html": [
       "<div>\n",
       "<style scoped>\n",
       "    .dataframe tbody tr th:only-of-type {\n",
       "        vertical-align: middle;\n",
       "    }\n",
       "\n",
       "    .dataframe tbody tr th {\n",
       "        vertical-align: top;\n",
       "    }\n",
       "\n",
       "    .dataframe thead th {\n",
       "        text-align: right;\n",
       "    }\n",
       "</style>\n",
       "<table border=\"1\" class=\"dataframe\">\n",
       "  <thead>\n",
       "    <tr style=\"text-align: right;\">\n",
       "      <th></th>\n",
       "      <th>Severity</th>\n",
       "      <th>First Aid Steps</th>\n",
       "      <th>Injury Type</th>\n",
       "      <th>Pill Needed</th>\n",
       "    </tr>\n",
       "  </thead>\n",
       "  <tbody>\n",
       "    <tr>\n",
       "      <th>111</th>\n",
       "      <td>MILD</td>\n",
       "      <td>Check responsiveness and breathing. Call emerg...</td>\n",
       "      <td>CPR</td>\n",
       "      <td>NO</td>\n",
       "    </tr>\n",
       "  </tbody>\n",
       "</table>\n",
       "</div>"
      ],
      "text/plain": [
       "    Severity                                    First Aid Steps Injury Type  \\\n",
       "111     MILD  Check responsiveness and breathing. Call emerg...         CPR   \n",
       "\n",
       "    Pill Needed  \n",
       "111          NO  "
      ]
     },
     "execution_count": 61,
     "metadata": {},
     "output_type": "execute_result"
    }
   ],
   "source": [
    "y.info()\n",
    "y.sample()\n"
   ]
  },
  {
   "cell_type": "code",
   "execution_count": 62,
   "id": "d5b5c69f",
   "metadata": {},
   "outputs": [
    {
     "data": {
      "text/plain": [
       "0         i have stomach pain after eating street food\n",
       "1      severe stomach pain with vomiting and dizziness\n",
       "2          i have stomach cramps after eating too fast\n",
       "3          severe abdominal pain after eating old food\n",
       "4           my stomach hurts badly after roadside food\n",
       "                            ...                       \n",
       "491                              how to cure a vertigo\n",
       "492                           how do you treat a wound\n",
       "493                        what to do if i get a wound\n",
       "494            which medicine to take if i get wounded\n",
       "495                                how to cure a wound\n",
       "Name: Description, Length: 496, dtype: object"
      ]
     },
     "execution_count": 62,
     "metadata": {},
     "output_type": "execute_result"
    }
   ],
   "source": [
    "X\n",
    "\n",
    "X_cleaned"
   ]
  },
  {
   "cell_type": "code",
   "execution_count": 63,
   "id": "775c8d62",
   "metadata": {},
   "outputs": [
    {
     "data": {
      "text/html": [
       "<div>\n",
       "<style scoped>\n",
       "    .dataframe tbody tr th:only-of-type {\n",
       "        vertical-align: middle;\n",
       "    }\n",
       "\n",
       "    .dataframe tbody tr th {\n",
       "        vertical-align: top;\n",
       "    }\n",
       "\n",
       "    .dataframe thead th {\n",
       "        text-align: right;\n",
       "    }\n",
       "</style>\n",
       "<table border=\"1\" class=\"dataframe\">\n",
       "  <thead>\n",
       "    <tr style=\"text-align: right;\">\n",
       "      <th></th>\n",
       "      <th>Severity</th>\n",
       "      <th>First Aid Steps</th>\n",
       "      <th>Injury Type</th>\n",
       "      <th>Pill Needed</th>\n",
       "    </tr>\n",
       "  </thead>\n",
       "  <tbody>\n",
       "    <tr>\n",
       "      <th>0</th>\n",
       "      <td>MILD</td>\n",
       "      <td>Drink clean water, rest, eat light food, if pe...</td>\n",
       "      <td>Abdominal Pain</td>\n",
       "      <td>antacid</td>\n",
       "    </tr>\n",
       "    <tr>\n",
       "      <th>1</th>\n",
       "      <td>SEVERE</td>\n",
       "      <td>Lie down, hydrate if possible, seek immediate ...</td>\n",
       "      <td>Abdominal Pain</td>\n",
       "      <td>antacid</td>\n",
       "    </tr>\n",
       "    <tr>\n",
       "      <th>2</th>\n",
       "      <td>MILD</td>\n",
       "      <td>Sit upright, sip warm water, eat slowly next t...</td>\n",
       "      <td>Abdominal Pain</td>\n",
       "      <td>antacid</td>\n",
       "    </tr>\n",
       "    <tr>\n",
       "      <th>3</th>\n",
       "      <td>SEVERE</td>\n",
       "      <td>Lie down, do not eat or drink until doctor con...</td>\n",
       "      <td>Abdominal Pain</td>\n",
       "      <td>antacid</td>\n",
       "    </tr>\n",
       "    <tr>\n",
       "      <th>4</th>\n",
       "      <td>MODERATE</td>\n",
       "      <td>Sip ORS slowly, rest, seek doctor if pain incr...</td>\n",
       "      <td>Abdominal Pain</td>\n",
       "      <td>antacid</td>\n",
       "    </tr>\n",
       "    <tr>\n",
       "      <th>...</th>\n",
       "      <td>...</td>\n",
       "      <td>...</td>\n",
       "      <td>...</td>\n",
       "      <td>...</td>\n",
       "    </tr>\n",
       "    <tr>\n",
       "      <th>491</th>\n",
       "      <td>MILD</td>\n",
       "      <td>Sit or lie down immediately to prevent falls. ...</td>\n",
       "      <td>Vertigo</td>\n",
       "      <td>Betahistine</td>\n",
       "    </tr>\n",
       "    <tr>\n",
       "      <th>492</th>\n",
       "      <td>MILD</td>\n",
       "      <td>Rinse the cut or wound with water and apply pr...</td>\n",
       "      <td>Wound</td>\n",
       "      <td>NO</td>\n",
       "    </tr>\n",
       "    <tr>\n",
       "      <th>493</th>\n",
       "      <td>MILD</td>\n",
       "      <td>Rinse the cut or wound with water and apply pr...</td>\n",
       "      <td>Wound</td>\n",
       "      <td>NO</td>\n",
       "    </tr>\n",
       "    <tr>\n",
       "      <th>494</th>\n",
       "      <td>MILD</td>\n",
       "      <td>Rinse the cut or wound with water and apply pr...</td>\n",
       "      <td>Wound</td>\n",
       "      <td>NO</td>\n",
       "    </tr>\n",
       "    <tr>\n",
       "      <th>495</th>\n",
       "      <td>MILD</td>\n",
       "      <td>Rinse the cut or wound with water and apply pr...</td>\n",
       "      <td>Wound</td>\n",
       "      <td>NO</td>\n",
       "    </tr>\n",
       "  </tbody>\n",
       "</table>\n",
       "<p>496 rows × 4 columns</p>\n",
       "</div>"
      ],
      "text/plain": [
       "     Severity                                    First Aid Steps  \\\n",
       "0        MILD  Drink clean water, rest, eat light food, if pe...   \n",
       "1      SEVERE  Lie down, hydrate if possible, seek immediate ...   \n",
       "2        MILD  Sit upright, sip warm water, eat slowly next t...   \n",
       "3      SEVERE  Lie down, do not eat or drink until doctor con...   \n",
       "4    MODERATE  Sip ORS slowly, rest, seek doctor if pain incr...   \n",
       "..        ...                                                ...   \n",
       "491      MILD  Sit or lie down immediately to prevent falls. ...   \n",
       "492      MILD  Rinse the cut or wound with water and apply pr...   \n",
       "493      MILD  Rinse the cut or wound with water and apply pr...   \n",
       "494      MILD  Rinse the cut or wound with water and apply pr...   \n",
       "495      MILD  Rinse the cut or wound with water and apply pr...   \n",
       "\n",
       "        Injury Type  Pill Needed  \n",
       "0    Abdominal Pain      antacid  \n",
       "1    Abdominal Pain      antacid  \n",
       "2    Abdominal Pain      antacid  \n",
       "3    Abdominal Pain      antacid  \n",
       "4    Abdominal Pain      antacid  \n",
       "..              ...          ...  \n",
       "491         Vertigo  Betahistine  \n",
       "492           Wound           NO  \n",
       "493           Wound           NO  \n",
       "494           Wound           NO  \n",
       "495           Wound           NO  \n",
       "\n",
       "[496 rows x 4 columns]"
      ]
     },
     "execution_count": 63,
     "metadata": {},
     "output_type": "execute_result"
    }
   ],
   "source": [
    "y"
   ]
  },
  {
   "cell_type": "code",
   "execution_count": 64,
   "id": "4ee49fe0",
   "metadata": {},
   "outputs": [
    {
     "data": {
      "text/plain": [
       "((496,), (496, 4))"
      ]
     },
     "execution_count": 64,
     "metadata": {},
     "output_type": "execute_result"
    }
   ],
   "source": [
    "X_cleaned.shape , y.shape"
   ]
  },
  {
   "cell_type": "code",
   "execution_count": 77,
   "id": "774d2847",
   "metadata": {},
   "outputs": [],
   "source": [
    "# Step 5: Split train and test sets\n",
    "X_train, X_test, y_train, y_test = train_test_split(X_raw, y, test_size=0.2, random_state=42)\n",
    "\n",
    "\n"
   ]
  },
  {
   "cell_type": "code",
   "execution_count": 78,
   "id": "54b9f940",
   "metadata": {},
   "outputs": [],
   "source": [
    "# Step 6: Create and train model\n",
    "rf = RandomForestClassifier(\n",
    "    n_estimators=200,\n",
    "    max_depth=10,\n",
    "    min_samples_split=4,\n",
    "    min_samples_leaf=2,\n",
    "    max_features='sqrt',\n",
    "    random_state=42\n",
    ")\n",
    "\n"
   ]
  },
  {
   "cell_type": "code",
   "execution_count": 3,
   "id": "e7c3330f",
   "metadata": {},
   "outputs": [
    {
     "name": "stdout",
     "output_type": "stream",
     "text": [
      "<class 'sklearn.pipeline.Pipeline'>\n",
      "Pipeline(steps=[('tfidf', TfidfVectorizer()),\n",
      "                ('clf',\n",
      "                 MultiOutputClassifier(estimator=RandomForestClassifier()))])\n"
     ]
    }
   ],
   "source": [
    "import joblib\n",
    "model = joblib.load(\"firstAIDmodel.pkl\")\n",
    "print(type(model))\n",
    "print(model)\n"
   ]
  },
  {
   "cell_type": "code",
   "execution_count": 5,
   "id": "dea6fc32",
   "metadata": {},
   "outputs": [
    {
     "name": "stdout",
     "output_type": "stream",
     "text": [
      "Predictions (raw): [['MILD'\n",
      "  'Move to fresh air immediately, loosen clothing, seek medical help.'\n",
      "  'miscellaneus case' 'NO']]\n"
     ]
    }
   ],
   "source": [
    "import joblib\n",
    "\n",
    "# Load the saved model\n",
    "model = joblib.load(\"firstAIDmodel.pkl\")\n",
    "\n",
    "# Sample test input (must be a list of strings)\n",
    "test_input = [\n",
    "    \"iam feeling dizzy\"\n",
    "]\n",
    "\n",
    "# Make predictions\n",
    "predictions = model.predict(test_input)\n",
    "\n",
    "# If your labels are strings and you have a label binarizer, convert back to text\n",
    "try:\n",
    "    label_binarizer = joblib.load(\"label_binarizer.pkl\")  # if you saved it separately\n",
    "    decoded_predictions = label_binarizer.inverse_transform(predictions)\n",
    "    print(\"Predictions:\", decoded_predictions)\n",
    "except FileNotFoundError:\n",
    "    print(\"Predictions (raw):\", predictions)\n",
    "\n"
   ]
  }
 ],
 "metadata": {
  "kernelspec": {
   "display_name": ".venv",
   "language": "python",
   "name": "python3"
  },
  "language_info": {
   "codemirror_mode": {
    "name": "ipython",
    "version": 3
   },
   "file_extension": ".py",
   "mimetype": "text/x-python",
   "name": "python",
   "nbconvert_exporter": "python",
   "pygments_lexer": "ipython3",
   "version": "3.12.8"
  }
 },
 "nbformat": 4,
 "nbformat_minor": 5
}
